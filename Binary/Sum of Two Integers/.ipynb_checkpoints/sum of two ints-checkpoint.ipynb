{
 "cells": [
  {
   "cell_type": "code",
   "execution_count": 98,
   "id": "41fc2afc-d555-4c41-ab88-f09db74f4d4e",
   "metadata": {},
   "outputs": [
    {
     "name": "stdout",
     "output_type": "stream",
     "text": [
      "24\n"
     ]
    }
   ],
   "source": [
    "#Inefficient, but shows an understanding of 2's compliment\n",
    "\n",
    "def getSum(a=-6,b=30):\n",
    "  a_string = bin(a & 0xFFF)[2::][::-1]\n",
    "  b_string = list(bin(b & 0xFFF)[2::][::-1])\n",
    "  for _ in range(12-len(b_string)):\n",
    "    b_string.append('0') \n",
    "    \n",
    "  def add_rev_strings(a_string, b_string):\n",
    "    for i,bit in enumerate(a_string):\n",
    "      if bit == '1':\n",
    "        if b_string[i] == '0':\n",
    "          b_string[i] = '1'\n",
    "        else:\n",
    "          for j in range(i, len(b_string)):\n",
    "            if b_string[j] == '0':\n",
    "              b_string[j] = '1'\n",
    "              break\n",
    "            else:\n",
    "              b_string[j]='0'\n",
    "    return b_string\n",
    "  \n",
    "  b_string = add_rev_strings(a_string, b_string)\n",
    "  \n",
    "  if b_string[-1] == '1': #negative\n",
    "    b_string = add_rev_strings('111111111111', b_string)\n",
    "    b_string = b_string[::-1]\n",
    "    b_string = ''.join(['0b',*b_string])\n",
    "    b_string = -(int(b_string, 2) ^ 0xFFF)\n",
    "  else:\n",
    "    b_string = b_string[::-1]\n",
    "    b_string = ''.join(['0b',*b_string])\n",
    "    b_string = int(b_string, 2)\n",
    "\n",
    "  return b_string\n",
    "print(getSum())"
   ]
  },
  {
   "cell_type": "code",
   "execution_count": 34,
   "id": "de3c3562-dbb3-44e7-9742-9155a440b597",
   "metadata": {},
   "outputs": [
    {
     "name": "stdout",
     "output_type": "stream",
     "text": [
      "0b1111111111111111111111111111111111111111111111111111111111111111111111111111111111111111111111111111111111111111111111111111111111111111111111111111111111111111111111111111111111111111111111111111111111111111111111111111111111111101\n",
      "105312291668557186697918027683670432318895095400549111254310977533\n",
      "-3\n",
      "0b111111111010\n",
      "0b101\n",
      "0b101\n",
      "0b111111111101\n",
      "0b10\n"
     ]
    },
    {
     "data": {
      "text/plain": [
       "'011'"
      ]
     },
     "execution_count": 34,
     "metadata": {},
     "output_type": "execute_result"
    }
   ],
   "source": [
    "print(bin(-3 & 0xFFFFFFFFFFFFFFFFFFFFFFFFFFFFFFFFFFFFFFFFFFFFFFFFFFFFFFFFFF))\n",
    "print(int(bin(-3 & 0xFFFFFFFFFFFFFFFFFFFFFFFFFFFFFFFFFFFFFFFFFFFFFFFFFFFFFF), 2))\n",
    "print(int('-0b011', 2))\n",
    "print(bin(-3 << 1 & 0xFFF))\n",
    "print(bin(5))\n",
    "print(bin((-3 & 5) & 0xFFF))\n",
    "print(bin((-3 | 5) & 0xFFF))\n",
    "print(bin(0b100 ^ 0b110)) #XOR\n",
    "bin(6)[2::][::-1]"
   ]
  },
  {
   "cell_type": "code",
   "execution_count": 21,
   "id": "5dcd867e-e922-43a4-a67f-e46a5cf5d610",
   "metadata": {},
   "outputs": [
    {
     "data": {
      "text/plain": [
       "2"
      ]
     },
     "execution_count": 21,
     "metadata": {},
     "output_type": "execute_result"
    }
   ],
   "source": [
    "6 % 4\n"
   ]
  },
  {
   "cell_type": "code",
   "execution_count": 28,
   "id": "e5c26f63-498e-4ada-b4df-e3f0849589a2",
   "metadata": {},
   "outputs": [
    {
     "data": {
      "text/plain": [
       "3"
      ]
     },
     "execution_count": 28,
     "metadata": {},
     "output_type": "execute_result"
    }
   ],
   "source": [
    "def add1s(x,y):\n",
    "  if x == 1 and y == 1:\n",
    "    return 2\n",
    "  \n",
    "x = 5\n",
    "x.bit_length()"
   ]
  },
  {
   "cell_type": "code",
   "execution_count": null,
   "id": "0613fa77-8bbf-4844-aa78-05125a641fd8",
   "metadata": {},
   "outputs": [],
   "source": []
  },
  {
   "cell_type": "code",
   "execution_count": 59,
   "id": "f2b375eb-8268-430a-826a-bbc9977996f7",
   "metadata": {},
   "outputs": [
    {
     "data": {
      "text/plain": [
       "'0b111111111111'"
      ]
     },
     "execution_count": 59,
     "metadata": {},
     "output_type": "execute_result"
    }
   ],
   "source": [
    "bin(-1 & 0xFFF)"
   ]
  },
  {
   "cell_type": "code",
   "execution_count": null,
   "id": "319885ba-d7f6-472d-b9b6-7bebe02eded3",
   "metadata": {},
   "outputs": [],
   "source": []
  }
 ],
 "metadata": {
  "kernelspec": {
   "display_name": "Python 3",
   "language": "python",
   "name": "python3"
  },
  "language_info": {
   "codemirror_mode": {
    "name": "ipython",
    "version": 3
   },
   "file_extension": ".py",
   "mimetype": "text/x-python",
   "name": "python",
   "nbconvert_exporter": "python",
   "pygments_lexer": "ipython3",
   "version": "3.8.8"
  }
 },
 "nbformat": 4,
 "nbformat_minor": 5
}
