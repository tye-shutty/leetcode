{
 "cells": [
  {
   "cell_type": "code",
   "execution_count": 2,
   "id": "a17a1bce-5dbc-4f3d-918d-9cf63be0ab1e",
   "metadata": {},
   "outputs": [
    {
     "data": {
      "text/plain": [
       "[1, 3]"
      ]
     },
     "execution_count": 2,
     "metadata": {},
     "output_type": "execute_result"
    }
   ],
   "source": [
    "\n",
    "def twoSum(nums=[11,2,15,7,-4], target=9): #ans= [1,3]\n",
    "  compliment = {}\n",
    "  for i in range(len(nums)):\n",
    "    if nums[i] in compliment:\n",
    "      return [compliment[nums[i]], i]\n",
    "    else:\n",
    "      compliment[target-nums[i]] = i\n",
    "      \n",
    "twoSum()\n",
    "      \n"
   ]
  },
  {
   "cell_type": "code",
   "execution_count": 5,
   "id": "02f086cf-4c25-4465-a341-3911ddd56683",
   "metadata": {},
   "outputs": [
    {
     "name": "stdout",
     "output_type": "stream",
     "text": [
      "0 11\n",
      "1 2\n",
      "2 15\n",
      "3 7\n",
      "4 -4\n"
     ]
    }
   ],
   "source": [
    "for i,v in enumerate([11,2,15,7,-4]):\n",
    "  print(i,v)"
   ]
  },
  {
   "cell_type": "code",
   "execution_count": null,
   "id": "b65c5c33-3082-4c3d-89a8-216e6b7e09fb",
   "metadata": {},
   "outputs": [],
   "source": []
  },
  {
   "cell_type": "code",
   "execution_count": null,
   "id": "99d3a000-3394-4ddf-a834-75c01485ef0d",
   "metadata": {},
   "outputs": [],
   "source": []
  }
 ],
 "metadata": {
  "kernelspec": {
   "display_name": "Python 3",
   "language": "python",
   "name": "python3"
  },
  "language_info": {
   "codemirror_mode": {
    "name": "ipython",
    "version": 3
   },
   "file_extension": ".py",
   "mimetype": "text/x-python",
   "name": "python",
   "nbconvert_exporter": "python",
   "pygments_lexer": "ipython3",
   "version": "3.8.8"
  }
 },
 "nbformat": 4,
 "nbformat_minor": 5
}
